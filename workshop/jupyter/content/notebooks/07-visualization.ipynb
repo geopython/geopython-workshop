{
 "cells": [
  {
   "cell_type": "markdown",
   "metadata": {},
   "source": [
    "# Visualization\n",
    "When it comes to visualizing geospatial data with/on maps with Python, a great number of tools and techniques\n",
    "are available. In this lesson we will explore several of these:\n",
    "\n",
    "* [Folium](#Folium)\n",
    "* [ipyleaflet](#ipyleaflet)\n",
    "* [Bokeh](#Bokeh)\n",
    "* [pydeck](#pydeck)\n"
   ]
  },
  {
   "cell_type": "markdown",
   "metadata": {},
   "source": [
    "## Folium\n",
    "Whenever you visit a website that has some kind of interactive map, it\n",
    "is quite probable that you are witnessing a map that has been made with\n",
    "a JavaScript library called [Leaflet](http://leafletjs.com). Other popular libraries you may encounter are\n",
    "[OpenLayers](https://openlayers.org) and [maplibre](https://maplibre.org/).\n",
    "\n",
    "The Python module \n",
    "[Folium](https://github.com/python-visualization/folium) makes\n",
    "it possible to visualize data that has been manipulated in Python on an\n",
    "interactive Leaflet map in a jupyter notebook or website generated from python code.\n",
    "\n",
    "### Basics\n",
    "We will start with the most minimal map using the default OpenStreetMap base map.\n",
    "See [Folium Quickstart](https://python-visualization.github.io/folium/quickstart.html).\n"
   ]
  },
  {
   "cell_type": "code",
   "execution_count": 1,
   "metadata": {
    "pycharm": {
     "name": "#%%\n"
    }
   },
   "outputs": [],
   "source": [
    "import folium\n",
    "\n",
    "folium_map = folium.Map(location=[-1.4563, -48.5013])"
   ]
  },
  {
   "cell_type": "markdown",
   "metadata": {},
   "source": [
    "The `location` keyword argument (there are many more, with sensible defaults) provides the Map centre in Latitude and Longitude (Northing, Easting). To display the Map in a Jupyter notebook, simply ask for its object representation:\n"
   ]
  },
  {
   "cell_type": "code",
   "execution_count": 2,
   "metadata": {
    "pycharm": {
     "name": "#%%\n"
    },
    "scrolled": true
   },
   "outputs": [],
   "source": [
    "folium_map"
   ]
  },
  {
   "cell_type": "markdown",
   "metadata": {
    "pycharm": {
     "name": "#%% md\n"
    }
   },
   "source": [
    "You could even save this map to a file and serve it via a webserver: \n"
   ]
  },
  {
   "cell_type": "code",
   "execution_count": 3,
   "metadata": {
    "pycharm": {
     "name": "#%%\n"
    }
   },
   "outputs": [],
   "source": [
    "folium_map.save('test/07-folium-1.html')"
   ]
  },
  {
   "cell_type": "markdown",
   "metadata": {},
   "source": [
    "Now [open this map here](test/07-folium-1.html) as \"regular\" HTML! \n"
   ]
  },
  {
   "cell_type": "markdown",
   "metadata": {},
   "source": [
    "### GeoJSON overlay\n",
    "It gets interesting when you can overlay the map with data manipulated\n",
    "via Python. Here we overlay the map with the Polygons of all countries, though\n",
    "that set is in a lower resolution clearly.\n"
   ]
  },
  {
   "cell_type": "code",
   "execution_count": 4,
   "metadata": {
    "pycharm": {
     "name": "#%%\n"
    }
   },
   "outputs": [],
   "source": [
    "countries = f'../data/countries.json'\n",
    "\n",
    "folium_map2 = folium.Map(\n",
    "    location=[0, 0],\n",
    "    zoom_start=2  \n",
    ")\n",
    "\n",
    "folium.GeoJson(\n",
    "    countries,\n",
    "    name='countries'\n",
    ").add_to(folium_map2)\n",
    "\n",
    "folium.LayerControl().add_to(folium_map2)\n",
    "\n",
    "folium_map2"
   ]
  },
  {
   "cell_type": "code",
   "execution_count": 5,
   "metadata": {
    "pycharm": {
     "name": "#%%\n"
    }
   },
   "outputs": [],
   "source": [
    "# Also save this map\n",
    "folium_map2.save('test/07-folium-2.html')"
   ]
  },
  {
   "cell_type": "markdown",
   "metadata": {},
   "source": [
    "And [open this map with overlay here](test/07-folium-2.html). \n",
    "\n"
   ]
  },
  {
   "cell_type": "markdown",
   "metadata": {},
   "source": [
    "### Folium and Streamlit\n",
    "Folium can also be [combined with Streamlit](https://folium.streamlit.app/). \n",
    "[Streamlit](https://streamlit.io) is a platform to create interactive web apps for your python data scripts.\n",
    "\n"
   ]
  },
  {
   "cell_type": "markdown",
   "metadata": {
    "pycharm": {
     "name": "#%% md\n"
    }
   },
   "source": [
    "## ipyleaflet\n",
    "[ipyleaflet](https://ipyleaflet.readthedocs.io) provides similar functionality as folium, however because\n",
    "it is based on [ipywidgets](https://ipywidgets.readthedocs.io), it integrates with other components from\n",
    "the ipywidgets ecosystem (sliders, datagrids, tabs).\n",
    "\n",
    "Links:\n",
    "\n",
    "* GitHub: https://github.com/jupyter-widgets/ipyleaflet\n",
    "* Documentation: https://ipyleaflet.readthedocs.io"
   ]
  },
  {
   "cell_type": "markdown",
   "metadata": {
    "pycharm": {
     "name": "#%% md\n"
    }
   },
   "source": [
    "### ipyleaflet - simplest map"
   ]
  },
  {
   "cell_type": "code",
   "execution_count": 6,
   "metadata": {
    "pycharm": {
     "name": "#%%\n"
    },
    "scrolled": true
   },
   "outputs": [],
   "source": [
    "from ipyleaflet import *\n",
    "\n",
    "m = Map(center=(-1.4563, -48.5013), zoom=10, basemap=basemaps.OpenStreetMap.Mapnik)\n",
    "m"
   ]
  },
  {
   "cell_type": "markdown",
   "metadata": {},
   "source": [
    "### ipyleaflet - add overlay tiles\n",
    "This basemap is now transparently overlayed with tiles from the [Strava heatmap](https://www.strava.com/heatmap)."
   ]
  },
  {
   "cell_type": "code",
   "execution_count": 7,
   "metadata": {
    "pycharm": {
     "name": "#%%\n"
    }
   },
   "outputs": [],
   "source": [
    "strava_all = basemap_to_tiles(basemaps.Strava.All)\n",
    "m.add_layer(strava_all)\n",
    "m"
   ]
  },
  {
   "cell_type": "markdown",
   "metadata": {},
   "source": [
    "### ipyleaflet - mouse interaction handling\n",
    "We'll remove the overlay and add interaction to show lat/lon coordinates where your mouse is. "
   ]
  },
  {
   "cell_type": "code",
   "execution_count": 8,
   "metadata": {
    "pycharm": {
     "name": "#%%\n"
    },
    "scrolled": true
   },
   "outputs": [],
   "source": [
    "m.remove_layer(strava_all)\n",
    "\n",
    "from ipywidgets import Label\n",
    "\n",
    "label = Label()\n",
    "display(label)\n",
    "\n",
    "def handle_interaction(**kwargs):\n",
    "    if kwargs.get('type') == 'mousemove':\n",
    "        label.value = str(kwargs.get('coordinates'))\n",
    "\n",
    "m.on_interaction(handle_interaction)\n",
    "m"
   ]
  },
  {
   "cell_type": "markdown",
   "metadata": {},
   "source": [
    "### ipyleaflet - Add Overlay Vector Layer\n",
    "We will add some rivers.\n"
   ]
  },
  {
   "cell_type": "code",
   "execution_count": 9,
   "metadata": {
    "pycharm": {
     "name": "#%% \n"
    }
   },
   "outputs": [],
   "source": [
    "import json\n",
    "\n",
    "with open('../data/rivers_lake_centerlines.json') as f:\n",
    "    data = json.load(f)\n",
    "    \n",
    "for feature in data['features']:\n",
    "    feature['properties']['style'] = {\n",
    "        'color': 'blue',\n",
    "        'weight': 1,\n",
    "        'fillColor': 'blue',\n",
    "        'fillOpacity': 0.5\n",
    "    }\n",
    "geo = GeoJSON(data=data, hover_style={'fillColor': 'red'}, name='Rivers-Lakes')\n",
    "m.add_layer(geo)\n",
    "m"
   ]
  },
  {
   "cell_type": "markdown",
   "metadata": {},
   "source": [
    "### ipyleaflet - Adding Control\n",
    "Add a control to select layers to display on map.\n"
   ]
  },
  {
   "cell_type": "code",
   "execution_count": 10,
   "metadata": {
    "pycharm": {
     "name": "#%%\n"
    }
   },
   "outputs": [],
   "source": [
    "m.add_control(LayersControl())"
   ]
  },
  {
   "cell_type": "markdown",
   "metadata": {},
   "source": [
    "### ipyleaflet - Creating two maps side by side\n",
    "As ipyleaflet is based on ipywidgets, we can make interesting combinations.\n"
   ]
  },
  {
   "cell_type": "code",
   "execution_count": 11,
   "metadata": {
    "pycharm": {
     "name": "#%%\n"
    }
   },
   "outputs": [],
   "source": [
    "import ipywidgets\n",
    " \n",
    "ipywidgets.HBox([m, Map(center=[-1.4563, -48.5013], zoom=8)])"
   ]
  },
  {
   "cell_type": "markdown",
   "metadata": {},
   "source": [
    "### ipyleaflet - Adding Popups\n",
    "\n",
    "#### 1. Adding a static popup"
   ]
  },
  {
   "cell_type": "code",
   "execution_count": 12,
   "metadata": {},
   "outputs": [],
   "source": [
    "from ipywidgets import HTML\n",
    "from ipyleaflet import Map, Marker, Popup\n",
    "center = (-1.4217175,-48.4921731)\n",
    "m = Map(center=center, zoom=17, close_popup_on_click=False)\n",
    "marker = Marker(location=(-1.4217175,-48.4921731))\n",
    "m.add_layer(marker)\n",
    "message2 = HTML()\n",
    "message2.value = \"Hey!! I'm speaking at FOSS4G 2024 🔥\"\n",
    "marker.popup = message2\n",
    "m"
   ]
  },
  {
   "cell_type": "markdown",
   "metadata": {},
   "source": [
    "#### 2. Using Custom data in popup\n",
    "\n",
    "For this example we'll prepare map of following scenario\n",
    "Seeing all the cities as a point on map and on click show their name"
   ]
  },
  {
   "cell_type": "code",
   "execution_count": 13,
   "metadata": {},
   "outputs": [],
   "source": [
    "#Preparing data \n",
    "import geopandas as gpd\n",
    "all_cities =  gpd.read_file('../data/shape/populated_places.shp')\n",
    "all_countries =  gpd.read_file('../data/ne_110m_admin_0_countries/ne_110m_admin_0_countries.shp')\n",
    "all_cities.dropna(subset=[\"NAME\",\"geometry\"])\n",
    "Brazil = all_countries[all_countries['NAME'] == 'Brazil']\n",
    "Brazilian_cities = all_cities[all_cities.within(Brazil.squeeze().geometry)]\n",
    "Brazilian_cities\n",
    "\n",
    "# Creating Map\n",
    "from ipyleaflet import Map, Marker, Popup\n",
    "from ipywidgets import HTML\n",
    "center = (-15.749997,-47.9499962)\n",
    "m = Map(center=center, zoom=3, close_popup_on_click=False)\n",
    "\n",
    "# Adding data as marker \n",
    "for index, row in Brazilian_cities.iterrows():\n",
    "    message2 = HTML()\n",
    "    marker = Marker(location=(row['geometry'].y, row['geometry'].x))\n",
    "    message2.value = row['NAME']\n",
    "    # message2.description = row['NAME']\n",
    "    marker.popup = message2\n",
    "    m.add_layer(marker)\n",
    "#     print(index)\n",
    "\n",
    "#load map\n",
    "m"
   ]
  },
  {
   "cell_type": "markdown",
   "metadata": {},
   "source": [
    "### Other interesting ipyleaflet functions\n",
    "\n",
    "1. AntPath \n",
    "2. Marker Cluster\n",
    "3. Heatmap\n",
    "4. Velocity\n",
    "5. Choropleth\n",
    "\n",
    "check out out at https://ipyleaflet.readthedocs.io/"
   ]
  },
  {
   "cell_type": "markdown",
   "metadata": {
    "pycharm": {
     "name": "#%% md\n"
    }
   },
   "source": [
    "## Bokeh\n",
    "\n",
    "Bokeh is a powerful framework to produce tailored interactive map and data visualisations.\n",
    "Map features are limited compared to Folium, but there are more options to tailor the behaviour.\n",
    "Bokeh provides mechanisms to interact with a server side application. With Geopandas and Bokeh\n",
    "one can produce a nice looking interactive map like in the image below:\n",
    "\n",
    "![Bokeh and Geopandas Example](images/bokeh-example1.jpg)\n",
    "*Interactive Map with Bokeh and GeoPandas - Source: [CSC L6](https://automating-gis-processes.github.io/CSC/lessons/L6/interactive-map-bokeh.html)*\n"
   ]
  },
  {
   "cell_type": "markdown",
   "metadata": {},
   "source": [
    "### Bokeh - links\n",
    "\n",
    "See also:\n",
    "\n",
    "* https://automating-gis-processes.github.io/CSC/lessons/L6/interactive-map-bokeh.html\n",
    "* [Binder for Geographic Plots in Bokeh](https://mybinder.org/v2/gh/bokeh/bokeh-notebooks/master?filepath=tutorial%2F09%20-%20Geographic%20Plots.ipynb)\n",
    "* https://towardsdatascience.com/exploring-and-visualizing-chicago-transit-data-using-pandas-and-bokeh-part-ii-intro-to-bokeh-5dca6c5ced10\n",
    "* https://pythonawesome.com/bokeh-plotting-backend-for-pandas-and-geopandas/\n"
   ]
  },
  {
   "cell_type": "markdown",
   "metadata": {},
   "source": [
    "### Bokeh - making a simple plot\n",
    "First, we learn the basic logic of plotting in Bokeh by making a simple interactive plot with a few points.\n",
    "\n",
    "Import the necessary functionalities from Bokeh."
   ]
  },
  {
   "cell_type": "code",
   "execution_count": 14,
   "metadata": {
    "pycharm": {
     "name": "#%%\n"
    }
   },
   "outputs": [],
   "source": [
    "from bokeh.plotting import figure, save"
   ]
  },
  {
   "cell_type": "markdown",
   "metadata": {
    "pycharm": {
     "name": "#%% md\n"
    }
   },
   "source": [
    "Initialize our plot by calling the `figure` object.\n"
   ]
  },
  {
   "cell_type": "code",
   "execution_count": 15,
   "metadata": {
    "pycharm": {
     "name": "#%%\n"
    }
   },
   "outputs": [],
   "source": [
    "p = figure(title='My first interactive plot!')"
   ]
  },
  {
   "cell_type": "markdown",
   "metadata": {},
   "source": [
    "Next we create lists of x and y coordinates that we want to plot.\n"
   ]
  },
  {
   "cell_type": "code",
   "execution_count": 16,
   "metadata": {
    "pycharm": {
     "name": "#%%\n"
    }
   },
   "outputs": [],
   "source": [
    "x_coords = [0,1,2,3,4]\n",
    "y_coords = [5,4,1,2,0]"
   ]
  },
  {
   "cell_type": "markdown",
   "metadata": {},
   "source": [
    "\tIn Bokeh drawing points, lines or polygons are always done using \n",
    "\tlist(s) of x and y coordinates.\n",
    "\n",
    "Now we can plot those as points using a `.scatter()` -object. Give it a red color and size of 10.\n"
   ]
  },
  {
   "cell_type": "code",
   "execution_count": 17,
   "metadata": {
    "pycharm": {
     "name": "#%%\n"
    }
   },
   "outputs": [],
   "source": [
    "p.scatter(x=x_coords, y=y_coords, size=10, color='red')"
   ]
  },
  {
   "cell_type": "markdown",
   "metadata": {},
   "source": [
    "Finally, we can save our interactive plot into the disk with save -function \n",
    "that we imported in the beginning. All interactive plots are typically \n",
    "saved as html files which you can open in a web-browser.\n",
    "\t\n",
    "\t# Save the plot by passing the plot -object and output path\n",
    "\tsave(obj=p, filename=\"../data/output/07-points.html\")\n",
    "\n",
    "Now you could open your interactive `points.html` plot by double-clicking it which should open it in a web browser.\n",
    "\n",
    "But we will plot directly in the Notebook here using `output_notebook()` and `show()`.\n"
   ]
  },
  {
   "cell_type": "code",
   "execution_count": 18,
   "metadata": {
    "pycharm": {
     "name": "#%%\n"
    }
   },
   "outputs": [],
   "source": [
    "from bokeh.io import output_notebook, show\n",
    "output_notebook()"
   ]
  },
  {
   "cell_type": "markdown",
   "metadata": {},
   "source": [
    "And then the moment of magic:\n"
   ]
  },
  {
   "cell_type": "code",
   "execution_count": 19,
   "metadata": {
    "pycharm": {
     "name": "#%%\n"
    }
   },
   "outputs": [],
   "source": [
    "show(p)"
   ]
  },
  {
   "cell_type": "markdown",
   "metadata": {},
   "source": [
    "### Bokeh - Creating an Interactive Tiled Background Map\n"
   ]
  },
  {
   "cell_type": "code",
   "execution_count": 20,
   "metadata": {
    "pycharm": {
     "name": "#%%\n"
    }
   },
   "outputs": [],
   "source": [
    "from bokeh.plotting import figure\n",
    "from bokeh.io import output_notebook, show\n",
    "output_notebook()"
   ]
  },
  {
   "cell_type": "markdown",
   "metadata": {},
   "source": [
    "If you show the figure, you can then use the wheel zoom and pan tools to navigate over any zoom level, \n",
    "and Bokeh will request the appropriate tiles from the server and insert them at the correct locations in the plot:\n"
   ]
  },
  {
   "cell_type": "code",
   "execution_count": 21,
   "metadata": {
    "pycharm": {
     "name": "#%%\n"
    }
   },
   "outputs": [],
   "source": [
    "# When using in standard Python env\n",
    "# output_file(\"tile.html\")\n",
    "\n",
    "# range bounds supplied in web mercator coordinates\n",
    "p = figure(tools='pan, wheel_zoom', x_range=(-10000000, -3000000), y_range=(-6000000, 0),\n",
    "           x_axis_type='mercator', y_axis_type='mercator')\n",
    "p.add_tile(\"CartoDB Positron\", retina=True)\n",
    "\n",
    "show(p)"
   ]
  },
  {
   "cell_type": "markdown",
   "metadata": {},
   "source": [
    "### Creating an Interactive Maps using Bokeh and Geopandas - OPTIONAL\n",
    "\n",
    "Creating an interactive Bokeh map from a Shapefile or other vector data file like GeoJSON\n",
    "consists typically of the following steps:\n",
    "\n",
    "* Read the spatial vector file into `GeoDataFrame`\n",
    "* Calculate the x and y coordinates of the geometries into separate columns\n",
    "* Convert the `GeoDataFrame` into a Bokeh `DataSource`\n",
    "* Plot the x and y coordinates as points, lines or polygons (which are in Bokeh words: `scatter`, `multi_line` and `patches`)\n",
    "\n",
    "We follow the steps below, extending and plotting on the tiled map from above.\n"
   ]
  },
  {
   "cell_type": "code",
   "execution_count": 22,
   "metadata": {
    "pycharm": {
     "name": "#%%\n"
    }
   },
   "outputs": [],
   "source": [
    "import geopandas as gpd\n",
    "\n",
    "# Read the data (already in Web Mercator projection (ignore the warning)\n",
    "points = gpd.read_file('../data/populated_places.3857.gpkg')"
   ]
  },
  {
   "cell_type": "code",
   "execution_count": 23,
   "metadata": {
    "pycharm": {
     "name": "#%%\n"
    }
   },
   "outputs": [],
   "source": [
    "def getPointCoords(row, geom, coord_type):\n",
    "    \"\"\"Calculates coordinates ('x' or 'y') of a Point geometry\"\"\"\n",
    "    if coord_type == 'x':\n",
    "        return row[geom].x\n",
    "    elif coord_type == 'y':\n",
    "        return row[geom].y"
   ]
  },
  {
   "cell_type": "code",
   "execution_count": 24,
   "metadata": {
    "pycharm": {
     "name": "#%%\n"
    }
   },
   "outputs": [],
   "source": [
    "points['x'] = points.apply(getPointCoords, geom='geometry', coord_type='x', axis=1)\n",
    "points['y'] = points.apply(getPointCoords, geom='geometry', coord_type='y', axis=1)"
   ]
  },
  {
   "cell_type": "code",
   "execution_count": 25,
   "metadata": {
    "pycharm": {
     "name": "#%%\n"
    }
   },
   "outputs": [],
   "source": [
    "points.head(5)"
   ]
  },
  {
   "cell_type": "code",
   "execution_count": 26,
   "metadata": {
    "pycharm": {
     "name": "#%% \n"
    }
   },
   "outputs": [],
   "source": [
    "p_df = points.drop('geometry', axis=1).copy()\n",
    "p_df.head(2)"
   ]
  },
  {
   "cell_type": "code",
   "execution_count": 27,
   "metadata": {
    "pycharm": {
     "name": "#%%\n"
    }
   },
   "outputs": [],
   "source": [
    "from bokeh.models import ColumnDataSource\n",
    "psource = ColumnDataSource(p_df)"
   ]
  },
  {
   "cell_type": "code",
   "execution_count": 28,
   "metadata": {
    "pycharm": {
     "name": "#%% \n"
    }
   },
   "outputs": [],
   "source": [
    "# p = figure(title=\"A map of populated places from a GeoPackage\")\n",
    "p.scatter('x', 'y', source=psource, color='lightblue',size=15, alpha=0.7)\n",
    "show(p)"
   ]
  },
  {
   "cell_type": "markdown",
   "metadata": {
    "pycharm": {
     "name": "#%% md\n"
    }
   },
   "source": [
    "### Using Bokeh GeoJSONSource  - OPTIONAL\n",
    "The above scenario could be effected even more compact.\n",
    "The Bokeh `GeoJSONDataSource` expects a GeoJSON-string, so we can \n",
    "just use ordinary file `open()/read()`.\n",
    "\n",
    "See `GeoJSONDataSource` example in the [Bokeh Documentation](https://bokeh.pydata.org/en/latest/docs/user_guide/geo.html#geojson-data).\n",
    "Though we have to do reprojection from WGS84 (default for GeoJSON)\n",
    "to EPSG:3857 (Web Mercator a.k.a. \"Google\" or \"OSM\" Projection) before. In this case we have already reprojected\n",
    "the GeoJSON file using `ogr2ogr`:\n",
    "\n",
    "\togr2ogr -s_srs EPSG:4326 -t_srs EPSG:3857 populated_places.3857.json populated_places.json\n"
   ]
  },
  {
   "cell_type": "markdown",
   "metadata": {},
   "source": [
    "<div class=\"alert alert-block alert-warning\">\n",
    "<b>Warning:</b> Although GDAL/OGR, bokeh and many other tools support a crs member in GeoJSON, please note that the latest version of the <a href=\"https://datatracker.ietf.org/doc/html/rfc7946\">GeoJSON spec<a> does not support specifying Coordinate Reference Systems and always assumes a default WGS84 crs. If you need crs support in GeoJSON, you consider the OGC <a href=\"https://github.com/opengeospatial/ogc-feat-geo-json\">JSON-FG candidate Standard</a> from OGC.\n",
    "</div>"
   ]
  },
  {
   "cell_type": "code",
   "execution_count": 29,
   "metadata": {
    "pycharm": {
     "name": "#%%\n"
    }
   },
   "outputs": [],
   "source": [
    "from bokeh.models import GeoJSONDataSource\n",
    "from bokeh.plotting import figure\n",
    "from bokeh.io import output_notebook, show\n",
    "output_notebook()\n",
    "\n",
    "# We could also assemble map plus overlay in an HTML file\n",
    "# output_file(\"../data/output/07-bokeh-geojson.html\")"
   ]
  },
  {
   "cell_type": "markdown",
   "metadata": {},
   "source": [
    "Read the populated places GeoJSON\n"
   ]
  },
  {
   "cell_type": "code",
   "execution_count": 30,
   "metadata": {
    "pycharm": {
     "name": "#%%\n"
    }
   },
   "outputs": [],
   "source": [
    "with open('../data/populated_places.3857.json') as json_file:\n",
    "        geojson = json_file.read()\n",
    "        \n",
    "geo_source = GeoJSONDataSource(geojson=geojson)"
   ]
  },
  {
   "cell_type": "markdown",
   "metadata": {},
   "source": [
    "Build the map. Again, use the wheel zoom and pan tools to navigate the map. \n"
   ]
  },
  {
   "cell_type": "code",
   "execution_count": 31,
   "metadata": {
    "pycharm": {
     "name": "#%%\n"
    }
   },
   "outputs": [],
   "source": [
    "p = figure(tools='pan, wheel_zoom', x_axis_type='mercator', y_axis_type='mercator', width=800, height=500)\n",
    "\n",
    "# add background tiles layer from CARTO\n",
    "p.add_tile(\"CartoDB Positron\", retina=True)\n",
    "\n",
    "# add populated places point overlay\n",
    "p.scatter(x='x', y='y', size=10, alpha=0.7, source=geo_source, color='lightblue', legend_label='Populated Places')\n",
    "\n",
    "show(p)"
   ]
  },
  {
   "cell_type": "markdown",
   "metadata": {},
   "source": [
    "## pydeck\n",
    "\n",
    "Up till this point we've looked at 2D data visualisations. With [pydeck](https://pydeck.gl/)\n",
    "we switch to WebGL-powered data visualization, including 3D and vector tiles.\n",
    "pydeck is a python wrapper for the [deck.gl](https://deck.gl/) javascript library.\n",
    "deck.gl visualisations typically use a vector tile background (from [mapbox](https://mapbox.com), [maptiler](https://www.maptiler.com/), or similar)\n",
    "\n",
    "![Example by deck.gl](images/deck.gl.jpg)\n",
    "\n",
    "The code snippet below creates a deck.gl view based on some sample data with tooltips.\n"
   ]
  },
  {
   "cell_type": "code",
   "execution_count": 32,
   "metadata": {
    "scrolled": true
   },
   "outputs": [],
   "source": [
    "import pydeck as pdk\n",
    "import pandas as pd\n",
    "\n",
    "# Sample data: 6 locations with population\n",
    "data = pd.DataFrame({\n",
    "    'lat': [43.5081, 43.2967, 43.0500, 43.3438, 42.6507, 42.9228],\n",
    "    'lon': [16.4402, 17.0177, 17.4333, 17.8078, 18.0944, 17.6158],\n",
    "    'pop': [160000 , 13000, 6500, 105000, 41000, 4000],\n",
    "    'city': ['Split', 'Makarska', 'Ploče', 'Mostar', 'Dubrovnik', 'Neum']\n",
    "})\n",
    "\n",
    "# Define a scatterplot layer\n",
    "layer = pdk.Layer(\n",
    "    'ScatterplotLayer',\n",
    "    data=data,\n",
    "    get_position='[lon, lat]',\n",
    "    get_radius='pop / 10',\n",
    "    get_fill_color='[180, 0, 200, 140]',\n",
    "    pickable=True\n",
    ")\n",
    "\n",
    "# Define map view\n",
    "view_state = pdk.ViewState(\n",
    "    latitude=42.7,\n",
    "    longitude=16.8,\n",
    "    zoom=7,\n",
    "    pitch=30,\n",
    "    bearing=10\n",
    ")\n",
    "\n",
    "# Render view\n",
    "deck = pdk.Deck(\n",
    "    layers=[layer],\n",
    "    initial_view_state=view_state,\n",
    "    tooltip={\"text\": \"{city}\"}\n",
    ")\n",
    "\n",
    "deck.show()"
   ]
  },
  {
   "cell_type": "markdown",
   "metadata": {},
   "source": [
    "---\n",
    "[<- Data analysis](06-data-analysis.ipynb) | [Metadata ->](08-metadata.ipynb)"
   ]
  }
 ],
 "metadata": {
  "kernelspec": {
   "display_name": "Python 3 (ipykernel)",
   "language": "python",
   "name": "python3"
  },
  "language_info": {
   "codemirror_mode": {
    "name": "ipython",
    "version": 3
   },
   "file_extension": ".py",
   "mimetype": "text/x-python",
   "name": "python",
   "nbconvert_exporter": "python",
   "pygments_lexer": "ipython3",
   "version": "3.12.3"
  }
 },
 "nbformat": 4,
 "nbformat_minor": 4
}
