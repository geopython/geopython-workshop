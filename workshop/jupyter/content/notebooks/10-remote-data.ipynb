{
 "cells": [
  {
   "cell_type": "markdown",
   "metadata": {
    "editable": true,
    "slideshow": {
     "slide_type": ""
    },
    "tags": []
   },
   "source": [
    "# Remote data\n",
    "\n",
    "In this lesson we explore tools and components to interact with \n",
    "remote geospatial web-services to fetch information and geospatial data.\n",
    "\n",
    "## OWSLib - Python client for OGC OWS\n",
    "\n",
    "[OWSLib](https://owslib.readthedocs.io) is \n",
    "a client implemented in Python for Web Services standardized by the [Open Geospatial Consortium](https://www.ogc.org/)\n",
    "hence often nicknamed \"OGC OWS\".\n",
    " \n",
    "`OWSLib` enables you to connect to these services as \n",
    "a client, mainly to fetch and query data from them. \n",
    "Currently WMS, WFS, WCS, CSW, WPS, SOS, WMC and the more recent OGC APIs like \n",
    "*OGC API - Features* (formerly called \"WFS version 3\") are supported.\n",
    "The list of supported services is growing. \n",
    "\n",
    "Documentation: https://owslib.readthedocs.io\n"
   ]
  },
  {
   "cell_type": "markdown",
   "metadata": {},
   "source": [
    "## Interact with a WMS\n",
    "\n",
    "OGC Web Map Service (WMS) can be used to download map images rendered by the remote server.\n",
    "\n",
    "### GetCapabilities\n",
    "This is the metadata of the service endpoint (thanks to our friends at Terrestris)."
   ]
  },
  {
   "cell_type": "code",
   "execution_count": null,
   "metadata": {
    "ExecuteTime": {
     "end_time": "2024-06-08T11:48:12.007240Z",
     "start_time": "2024-06-08T11:48:11.724169Z"
    },
    "pycharm": {
     "name": "#%%\n"
    }
   },
   "outputs": [],
   "source": [
    "from owslib.wms import WebMapService\n",
    "\n",
    "wms_url = 'https://ows.terrestris.de/osm/service'\n",
    "\n",
    "wms = WebMapService(wms_url, version=\"1.3.0\")\n",
    "\n",
    "print(f'WMS title: {wms.identification.title}')\n",
    "\n",
    "print(f'WMS abstract: {wms.identification.abstract}')\n",
    "\n",
    "print(f'Provider name: {wms.provider.name}')\n",
    "\n",
    "print(f'Provider address: {wms.provider.contact.address}')"
   ]
  },
  {
   "cell_type": "markdown",
   "metadata": {},
   "source": [
    "Check the [Capabilities response](https://ows.terrestris.de/osm/service?service=WMS&request=GetCapabilities&version=1.3.0) directly from the server"
   ]
  },
  {
   "cell_type": "markdown",
   "metadata": {},
   "source": [
    "Available WMS layers:"
   ]
  },
  {
   "cell_type": "code",
   "execution_count": null,
   "metadata": {
    "pycharm": {
     "name": "#%%\n"
    }
   },
   "outputs": [],
   "source": [
    "list(wms.contents)"
   ]
  },
  {
   "cell_type": "code",
   "execution_count": null,
   "metadata": {
    "pycharm": {
     "name": "#%%\n"
    }
   },
   "outputs": [],
   "source": [
    "print(wms.contents['SRTM30-Colored'].boundingBox)"
   ]
  },
  {
   "cell_type": "code",
   "execution_count": null,
   "metadata": {
    "pycharm": {
     "name": "#%%\n"
    }
   },
   "outputs": [],
   "source": [
    "print(wms.contents['OSM-WMS'].boundingBoxWGS84)"
   ]
  },
  {
   "cell_type": "markdown",
   "metadata": {},
   "source": [
    "Download and save the data (image)"
   ]
  },
  {
   "cell_type": "code",
   "execution_count": null,
   "metadata": {
    "pycharm": {
     "name": "#%%\n"
    }
   },
   "outputs": [],
   "source": [
    "img = wms.getmap(\n",
    "    layers=['SRTM30-Colored'],\n",
    "    size=[600, 400],\n",
    "    srs=\"EPSG:4326\",\n",
    "    bbox=[1.0, 50.0, 10.0, 54.0],\n",
    "    format=\"image/png\")\n",
    "\n",
    "save_fp = 'test/10-wms.png'\n",
    "with open(save_fp, 'wb') as out:\n",
    "\tout.write(img.read())"
   ]
  },
  {
   "cell_type": "markdown",
   "metadata": {},
   "source": [
    "Display image in Notebook or view in browser via [this link](test/10-wms.png)."
   ]
  },
  {
   "cell_type": "code",
   "execution_count": null,
   "metadata": {
    "pycharm": {
     "name": "#%%\n"
    }
   },
   "outputs": [],
   "source": [
    "from IPython.display import Image\n",
    "Image(filename=save_fp)"
   ]
  },
  {
   "cell_type": "markdown",
   "metadata": {},
   "source": [
    "## Interact with a WFS\n",
    "\n",
    "OGC Web Feature Service (WFS) can be used to download vector data (called *Features*) from a remote server.\n",
    "In [Lesson 04 - Vector Data](04-vector-data.ipynb) we have learned that vector data\n",
    "can come in various formats. With WFS the default format is GML, both \"flat\", record-like Simple Features,\n",
    "but also as more complex GML application schema data. Most WFS implementations though, notably GeoServer, will\n",
    "also allow you to download data in additional vector formats such as GeoJSON and even as ESRI Shapefiles.\n",
    "\n",
    "When talking about \"WFS\", the OGC WFS version 1 and 2 is meant. Recently OGC has focused efforts on modernizing the  OWS specifications, which are a total rewrite (using REST, OpenAPI and GeoJSON). As a result, WFS has been rebranded as \"OGC API - Features\".\n",
    "This will be treated further below.\n",
    "\n",
    "The terminology for WFS is different as for WMS. Where WMS has **Layers**, a WFS has equivalent **FeatureTypes** (could even be from the same data, e.g. a database table) basically a collection of **Features**.\n",
    " \n",
    "### GetCapabilities\n",
    "This is the metadata of the WFS endpoint.\n"
   ]
  },
  {
   "cell_type": "code",
   "execution_count": null,
   "metadata": {
    "jupyter": {
     "is_executing": true
    },
    "pycharm": {
     "name": "#%%\n"
    }
   },
   "outputs": [],
   "source": [
    "from owslib.wfs import WebFeatureService\n",
    "\n",
    "wfs_url = 'https://ahocevar.com/geoserver/wfs'\n",
    "\n",
    "wfs = WebFeatureService(wfs_url, version='2.0.0')"
   ]
  },
  {
   "cell_type": "code",
   "execution_count": null,
   "metadata": {
    "ExecuteTime": {
     "end_time": "2024-06-08T11:19:45.227823Z",
     "start_time": "2024-06-08T11:19:45.225147Z"
    },
    "pycharm": {
     "name": "#%%\n"
    }
   },
   "outputs": [],
   "source": [
    "print(f'WFS title: {wfs.identification.title}')\n",
    "\n",
    "print(f'WFS abstract: {wfs.identification.abstract}')\n",
    "\n",
    "print(f'Provider name: {wfs.provider.name}')\n",
    "\n",
    "print(f'Provider address: {wfs.provider.contact.address}')"
   ]
  },
  {
   "cell_type": "markdown",
   "metadata": {},
   "source": [
    "Check the [Capabilities response](https://ahocevar.com/geoserver/wfs?service=WFS&request=GetCapabilities&version=2.0.0) directly from the server"
   ]
  },
  {
   "cell_type": "markdown",
   "metadata": {
    "pycharm": {
     "name": "#%% md\n"
    }
   },
   "source": [
    "Available operations (services):"
   ]
  },
  {
   "cell_type": "code",
   "execution_count": null,
   "metadata": {
    "ExecuteTime": {
     "end_time": "2024-06-08T11:19:51.501411Z",
     "start_time": "2024-06-08T11:19:51.497709Z"
    },
    "pycharm": {
     "name": "#%%\n"
    }
   },
   "outputs": [],
   "source": [
    "[operation.name for operation in wfs.operations]"
   ]
  },
  {
   "cell_type": "markdown",
   "metadata": {},
   "source": [
    "Available WFS FeatureTypes:"
   ]
  },
  {
   "cell_type": "code",
   "execution_count": null,
   "metadata": {
    "ExecuteTime": {
     "end_time": "2024-06-08T11:19:54.962246Z",
     "start_time": "2024-06-08T11:19:54.959145Z"
    },
    "pycharm": {
     "name": "#%%\n"
    },
    "scrolled": true
   },
   "outputs": [],
   "source": [
    "list(wfs.contents)"
   ]
  },
  {
   "cell_type": "markdown",
   "metadata": {},
   "source": [
    "As a Feature is basically a (sometime one or more) geometry with attribute data, we would be interested\n",
    "in the *schema*. For this a WFS provides a `DescribeFeatureType` service. OWSLib provides the method `get_schema()` to effectively call `DescribeFeatureType` on the WFS:"
   ]
  },
  {
   "cell_type": "code",
   "execution_count": null,
   "metadata": {
    "ExecuteTime": {
     "end_time": "2024-06-08T11:24:21.923081Z",
     "start_time": "2024-06-08T11:24:21.683774Z"
    }
   },
   "outputs": [],
   "source": [
    "wfs.get_schema('ne:ne_10m_populated_places')"
   ]
  },
  {
   "cell_type": "code",
   "execution_count": null,
   "metadata": {
    "pycharm": {
     "name": "#%%\n"
    }
   },
   "outputs": [],
   "source": [
    "wfs.contents['usa:states'].boundingBox"
   ]
  },
  {
   "cell_type": "markdown",
   "metadata": {
    "editable": true,
    "slideshow": {
     "slide_type": ""
    },
    "tags": []
   },
   "source": [
    "With the `GetFeature` service you can fetch, basically query, for vector data.\n",
    "This is the key operation of WFS. It is very powerful as well in terms\n",
    "of its query-options (parameters). You can basically think of a WFS as a web-accessible spatial database.\n",
    "\n",
    "As a minimum the `typename` parameter is required. Other parameters include:\n",
    "\n",
    "* `srsname`: fetch (reproject) data according to SRS (usually the EPSG code)\n",
    "* `bbox`: get the data contained in specified bounding box\n",
    "* `filter`: this allows you to filter out data, basically like SQL\n",
    "* `outputFormat`: download the data in various Vector data formats (default GML)\n",
    "\n",
    "Example. Download all \"populated places\" within the bounding box of Estonia as GML using the `GetFeature` operation.\n",
    "Tip: see https://gist.github.com/graydon/11198540 for country bounding boxes.\n",
    "\n",
    "`OWSLib` will switch the axis order from EN to NE automatically if designated by EPSG-Registry.\n"
   ]
  },
  {
   "cell_type": "code",
   "execution_count": null,
   "metadata": {
    "pycharm": {
     "name": "#%%\n"
    }
   },
   "outputs": [],
   "source": [
    "response = wfs.getfeature(typename='ne:ne_10m_populated_places', bbox=(-73.9872354804, -33.7683777809, -34.7299934555, 5.24448639569))"
   ]
  },
  {
   "cell_type": "markdown",
   "metadata": {
    "pycharm": {
     "name": "#%% md\n"
    }
   },
   "source": [
    "Now download in a more handy format like GeoJSON (mind: not all WFS-es support alternative output formats!)"
   ]
  },
  {
   "cell_type": "code",
   "execution_count": null,
   "metadata": {
    "pycharm": {
     "name": "#%%\n"
    }
   },
   "outputs": [],
   "source": [
    "response = wfs.getfeature(typename='ne:ne_10m_populated_places', bbox=(-73.9872354804, -33.7683777809, -34.7299934555, 5.24448639569), outputFormat='json')\n",
    "with open('test/10-populated-places-ee.json', 'w', encoding='UTF-8') as out:\n",
    "\tout.write(str(response.read(), 'UTF-8'))"
   ]
  },
  {
   "cell_type": "markdown",
   "metadata": {
    "editable": true,
    "slideshow": {
     "slide_type": ""
    },
    "tags": []
   },
   "source": [
    "Display data in Notebook or view in browser via [this link](test/10-populated-places-ee.json)."
   ]
  },
  {
   "cell_type": "markdown",
   "metadata": {
    "editable": true,
    "pycharm": {
     "name": "#%% md\n"
    },
    "slideshow": {
     "slide_type": ""
    },
    "tags": []
   },
   "source": [
    "Download GML data using `typename` and `filter` (get only a feature with `NAME=Curitiba`). \n",
    "OWSLib currently only supports filter building for WFS 1.1 (FE.1.1)."
   ]
  },
  {
   "cell_type": "code",
   "execution_count": null,
   "metadata": {
    "ExecuteTime": {
     "end_time": "2024-06-08T11:29:00.674096Z",
     "start_time": "2024-06-08T11:28:59.665818Z"
    },
    "editable": true,
    "pycharm": {
     "name": "#%%\n"
    },
    "slideshow": {
     "slide_type": ""
    },
    "tags": []
   },
   "outputs": [],
   "source": [
    "from owslib.fes import PropertyIsLike\n",
    "from owslib.etree import etree\n",
    "wfs11 = WebFeatureService(url='https://ahocevar.com/geoserver/wfs?', version='1.1.0')\n",
    "\n",
    "filter_ = PropertyIsLike(propertyname='NAME', literal='Curitiba', wildCard='*')\n",
    "filterxml = etree.tostring(filter_.toXML()).decode('utf-8')\n",
    "response = wfs11.getfeature(typename='ne:ne_10m_populated_places', filter=filterxml)"
   ]
  },
  {
   "cell_type": "markdown",
   "metadata": {
    "editable": true,
    "slideshow": {
     "slide_type": ""
    },
    "tags": []
   },
   "source": [
    "Showing the GML data:"
   ]
  },
  {
   "cell_type": "code",
   "execution_count": null,
   "metadata": {
    "ExecuteTime": {
     "end_time": "2024-06-08T11:29:02.449111Z",
     "start_time": "2024-06-08T11:29:02.446334Z"
    },
    "editable": true,
    "pycharm": {
     "name": "#%%\n"
    },
    "slideshow": {
     "slide_type": ""
    },
    "tags": []
   },
   "outputs": [],
   "source": [
    "str(response.read(), 'UTF-8')"
   ]
  },
  {
   "cell_type": "markdown",
   "metadata": {
    "editable": true,
    "pycharm": {
     "name": "#%% md\n"
    },
    "slideshow": {
     "slide_type": ""
    },
    "tags": []
   },
   "source": [
    "Alternatively as GeoJSON. For you to decide which format is handier..."
   ]
  },
  {
   "cell_type": "code",
   "execution_count": null,
   "metadata": {
    "editable": true,
    "pycharm": {
     "name": "#%%\n"
    },
    "slideshow": {
     "slide_type": ""
    },
    "tags": []
   },
   "outputs": [],
   "source": [
    "response = wfs11.getfeature(typename='ne:ne_10m_populated_places', filter=filterxml, outputFormat='json')\n",
    "json_str = str(response.read(), 'UTF-8')\n",
    "import json\n",
    "parsed = json.loads(json_str)\n",
    "print(json.dumps(parsed, indent=2, sort_keys=True))"
   ]
  },
  {
   "cell_type": "markdown",
   "metadata": {
    "editable": true,
    "slideshow": {
     "slide_type": ""
    },
    "tags": []
   },
   "source": [
    "## Fetch from OGC API Features\n",
    "Although this may sound very advanced, this is actually one of \n",
    "the simpler OGC APIs. See also the [OWSLib Manual for OAFeat](https://owslib.readthedocs.io/en/latest/usage.html#ogc-api).\n"
   ]
  },
  {
   "cell_type": "code",
   "execution_count": null,
   "metadata": {
    "editable": true,
    "pycharm": {
     "name": "#%%\n"
    },
    "slideshow": {
     "slide_type": ""
    },
    "tags": []
   },
   "outputs": [],
   "source": [
    "from owslib.ogcapi.features import Features\n",
    "oa_feat = Features('https://demo.pygeoapi.io/master')\n",
    "oa_feat.links"
   ]
  },
  {
   "cell_type": "code",
   "execution_count": null,
   "metadata": {
    "editable": true,
    "pycharm": {
     "name": "#%%\n"
    },
    "slideshow": {
     "slide_type": ""
    },
    "tags": []
   },
   "outputs": [],
   "source": [
    "# Open API Specification v3 - API document\n",
    "api = oa_feat.api() # OpenAPI definition\n",
    "api"
   ]
  },
  {
   "cell_type": "code",
   "execution_count": null,
   "metadata": {
    "editable": true,
    "pycharm": {
     "name": "#%%\n"
    },
    "slideshow": {
     "slide_type": ""
    },
    "tags": []
   },
   "outputs": [],
   "source": [
    "# Conformance stuff\n",
    "print(f'This OGC API Features endpoint conforms to {oa_feat.conformance()}')"
   ]
  },
  {
   "cell_type": "code",
   "execution_count": null,
   "metadata": {
    "editable": true,
    "pycharm": {
     "name": "#%%\n"
    },
    "slideshow": {
     "slide_type": ""
    },
    "tags": []
   },
   "outputs": [],
   "source": [
    "# Get collections (datasets) in endpoint\n",
    "collections = oa_feat.collections()\n",
    "print(f'This OGC API Features endpoint has {len(collections)} datasets')"
   ]
  },
  {
   "cell_type": "code",
   "execution_count": null,
   "metadata": {
    "editable": true,
    "pycharm": {
     "name": "#%%\n"
    },
    "slideshow": {
     "slide_type": ""
    },
    "tags": []
   },
   "outputs": [],
   "source": [
    "# Get items (paged) in Lakes collection\n",
    "lakes = oa_feat.collection('lakes')\n",
    "lakes_query = oa_feat.collection_items('lakes')\n",
    "lakes_query['features'][0]"
   ]
  },
  {
   "cell_type": "markdown",
   "metadata": {},
   "source": [
    "If you are interested in learning more about OGC API, check out the [OGC API Workshop](https://ogcapi-workshop.ogc.org/). If you want to publish your data using OGC API, check out the [Dive into pygeoapi Workshop](https://dive.pygeoapi.io/); the latter also has more examples on how-to consume data from OGC API, using various clients."
   ]
  },
  {
   "cell_type": "markdown",
   "metadata": {
    "editable": true,
    "slideshow": {
     "slide_type": ""
    },
    "tags": []
   },
   "source": [
    "## Searching for the data in CSW server - OPTIONAL\n",
    "This last section is quite advanced, you may want to skip if\n",
    "time pressures.\n",
    "\n",
    "We will use a metadata service (CSW) to find our target \n",
    "data service, a regular WFS (v2). All via OWSLib.\n",
    "\n",
    "### Step 1 - Find WFS endpoints by querying a CSW endpoint"
   ]
  },
  {
   "cell_type": "markdown",
   "metadata": {},
   "source": [
    "First step: let's find some WFS service in our CSW server:\n",
    "NOTE: You can skip this step and use the URL directly\n"
   ]
  },
  {
   "cell_type": "code",
   "execution_count": null,
   "metadata": {
    "editable": true,
    "pycharm": {
     "name": "#%%\n"
    },
    "slideshow": {
     "slide_type": ""
    },
    "tags": []
   },
   "outputs": [],
   "source": [
    "from owslib.fes import PropertyIsLike, BBox, And, PropertyIsEqualTo\n",
    "from owslib.csw import CatalogueServiceWeb\n",
    "\n",
    "thecsw = CatalogueServiceWeb('http://geoportal.gov.cz/php/micka/csw/index.php')"
   ]
  },
  {
   "cell_type": "code",
   "execution_count": null,
   "metadata": {
    "editable": true,
    "pycharm": {
     "name": "#%%\n"
    },
    "slideshow": {
     "slide_type": ""
    },
    "tags": []
   },
   "outputs": [],
   "source": [
    "# wfs_query = PropertyIsLike('csw:AnyText', 'WFS')\n",
    "geology_query = PropertyIsLike('csw:AnyText', 'Geology')\n",
    "service_query = PropertyIsLike('apiso:type', 'service')\n",
    "geology_and_wfs = And([geology_query, service_query])\n",
    "thecsw.getrecords2([geology_and_wfs], esn='full')\n",
    "\n",
    "print(thecsw.results)"
   ]
  },
  {
   "cell_type": "code",
   "execution_count": null,
   "metadata": {
    "editable": true,
    "pycharm": {
     "name": "#%%\n"
    },
    "slideshow": {
     "slide_type": ""
    },
    "tags": []
   },
   "outputs": [],
   "source": [
    "for recid in thecsw.records:\n",
    "    record = thecsw.records[recid]\n",
    "    print(recid, record.title)"
   ]
  },
  {
   "cell_type": "markdown",
   "metadata": {
    "editable": true,
    "slideshow": {
     "slide_type": ""
    },
    "tags": []
   },
   "source": [
    "### Step 2 - Get the WFS endpoint and interact with it\n",
    "Let's have a look at WFS data in czech Geology survey."
   ]
  },
  {
   "cell_type": "code",
   "execution_count": null,
   "metadata": {
    "editable": true,
    "pycharm": {
     "name": "#%%\n"
    },
    "slideshow": {
     "slide_type": ""
    },
    "tags": []
   },
   "outputs": [],
   "source": [
    "geology = thecsw.records['575a4ef6-2f74-43ed-9352-6f400a010852']\n",
    "print(f'Abstract: {geology.abstract}')\n",
    "\n",
    "print(f'Identifier: {geology.identifiers[1][\"identifier\"]}')"
   ]
  },
  {
   "cell_type": "code",
   "execution_count": null,
   "metadata": {
    "editable": true,
    "pycharm": {
     "name": "#%%\n"
    },
    "slideshow": {
     "slide_type": ""
    },
    "tags": []
   },
   "outputs": [],
   "source": [
    "from owslib.wfs import WebFeatureService\n",
    "url = 'http://inspire.geology.cz/geoserver/wms?service=WMS&version=1.3.0&request=Getcapabilities'\n",
    "geology_wfs = WebFeatureService(geology.identifiers[1]['identifier'])"
   ]
  },
  {
   "cell_type": "markdown",
   "metadata": {
    "editable": true,
    "slideshow": {
     "slide_type": ""
    },
    "tags": []
   },
   "source": [
    "Service metadata (Capabilities):"
   ]
  },
  {
   "cell_type": "code",
   "execution_count": null,
   "metadata": {
    "editable": true,
    "pycharm": {
     "name": "#%%\n"
    },
    "slideshow": {
     "slide_type": ""
    },
    "tags": []
   },
   "outputs": [],
   "source": [
    "capabilities = geology_wfs.getcapabilities()\n",
    "print(f'URL: {capabilities.geturl()}')\n",
    "print(f'Name: {geology_wfs.provider.name}')\n",
    "print(f'Title: {geology_wfs.identification.title}')\n",
    "print(f'Keywords: {geology_wfs.identification.keywords[0]}')\n",
    "print(f'Fees: {geology_wfs.identification.fees}')\n",
    "print(f'Abstract: {geology_wfs.identification.abstract}')"
   ]
  },
  {
   "cell_type": "markdown",
   "metadata": {
    "editable": true,
    "slideshow": {
     "slide_type": ""
    },
    "tags": []
   },
   "source": [
    "Print list of available layers "
   ]
  },
  {
   "cell_type": "code",
   "execution_count": null,
   "metadata": {
    "editable": true,
    "pycharm": {
     "name": "#%%\n"
    },
    "slideshow": {
     "slide_type": ""
    },
    "tags": []
   },
   "outputs": [],
   "source": [
    "for i in geology_wfs.contents:\n",
    "    print(f'\\n#### {i} ####')\n",
    "    print(geology_wfs.contents[i].abstract)"
   ]
  },
  {
   "cell_type": "markdown",
   "metadata": {
    "editable": true,
    "slideshow": {
     "slide_type": ""
    },
    "tags": []
   },
   "source": [
    "Download data from selected layer and write to a file."
   ]
  },
  {
   "cell_type": "code",
   "execution_count": null,
   "metadata": {
    "editable": true,
    "pycharm": {
     "name": "#%%\n"
    },
    "slideshow": {
     "slide_type": ""
    },
    "tags": []
   },
   "outputs": [],
   "source": [
    "identifier = 'gsmlp:CZE_CGS_500k_Fault'\n",
    "features = geology_wfs.getfeature([identifier])\n",
    "\n",
    "with open('test/10-geology-faults.gml', 'w', encoding='UTF-8') as out:\n",
    "    out.write(str(features.read(), 'UTF-8'))"
   ]
  },
  {
   "cell_type": "markdown",
   "metadata": {
    "editable": true,
    "pycharm": {
     "name": "#%% md\n"
    },
    "slideshow": {
     "slide_type": ""
    },
    "tags": []
   },
   "source": [
    "View the GML-data in browser via [this link](test/10-geology-faults.gml).\n",
    "\n",
    "---\n",
    "[<- Publishing](09-publishing.ipynb) | [Emerging technology and trends ->](11-emerging-technology-trends.ipynb)"
   ]
  },
  {
   "cell_type": "code",
   "execution_count": null,
   "metadata": {},
   "outputs": [],
   "source": []
  },
  {
   "cell_type": "code",
   "execution_count": null,
   "metadata": {},
   "outputs": [],
   "source": []
  },
  {
   "cell_type": "code",
   "execution_count": null,
   "metadata": {},
   "outputs": [],
   "source": []
  }
 ],
 "metadata": {
  "kernelspec": {
   "display_name": "Python 3 (ipykernel)",
   "language": "python",
   "name": "python3"
  },
  "language_info": {
   "codemirror_mode": {
    "name": "ipython",
    "version": 3
   },
   "file_extension": ".py",
   "mimetype": "text/x-python",
   "name": "python",
   "nbconvert_exporter": "python",
   "pygments_lexer": "ipython3",
   "version": "3.10.12"
  }
 },
 "nbformat": 4,
 "nbformat_minor": 4
}
